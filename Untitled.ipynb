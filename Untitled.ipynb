{
 "cells": [
  {
   "cell_type": "code",
   "execution_count": 5,
   "metadata": {},
   "outputs": [
    {
     "name": "stdout",
     "output_type": "stream",
     "text": [
      "['ATCGGTCGAA', 'ATCGGTCGAGCGTGT']\n",
      "MVYIADKQHVASREAYGHMFKVCA\n"
     ]
    }
   ],
   "source": [
    "DNA_CODON_TABLE = {\n",
    "    'TTT': 'F',     'CTT': 'L',     'ATT': 'I',     'GTT': 'V',\n",
    "    'TTC': 'F',     'CTC': 'L',     'ATC': 'I',     'GTC': 'V',\n",
    "    'TTA': 'L',     'CTA': 'L',     'ATA': 'I',     'GTA': 'V',\n",
    "    'TTG': 'L',     'CTG': 'L',     'ATG': 'M',     'GTG': 'V',\n",
    "    'TCT': 'S',     'CCT': 'P',     'ACT': 'T',     'GCT': 'A',\n",
    "    'TCC': 'S',     'CCC': 'P',     'ACC': 'T',     'GCC': 'A',\n",
    "    'TCA': 'S',     'CCA': 'P',     'ACA': 'T',     'GCA': 'A',\n",
    "    'TCG': 'S',     'CCG': 'P',     'ACG': 'T',     'GCG': 'A',\n",
    "    'TAT': 'Y',     'CAT': 'H',     'AAT': 'N',     'GAT': 'D',\n",
    "    'TAC': 'Y',     'CAC': 'H',     'AAC': 'N',     'GAC': 'D',\n",
    "    'TAA': '-',     'CAA': 'Q',     'AAA': 'K',     'GAA': 'E',\n",
    "    'TAG': '-',     'CAG': 'Q',     'AAG': 'K',     'GAG': 'E',\n",
    "    'TGT': 'C',     'CGT': 'R',     'AGT': 'S',     'GGT': 'G',\n",
    "    'TGC': 'C',     'CGC': 'R',     'AGC': 'S',     'GGC': 'G',\n",
    "    'TGA': '-',     'CGA': 'R',     'AGA': 'R',     'GGA': 'G',\n",
    "    'TGG': 'W',     'CGG': 'R',     'AGG': 'R',     'GGG': 'G'\n",
    "}\n",
    "\n",
    "\n",
    "def result(s):\n",
    "    result = ''\n",
    "\n",
    "    lines = s.split()\n",
    "    dna = lines[0]\n",
    "    introns = lines[1:]\n",
    "    print(introns)\n",
    "\n",
    "    for intron in introns:\n",
    "        dna = dna.replace(intron, '')\n",
    "\n",
    "    for i in range(0, len(dna), 3):\n",
    "        codon = dna[i:i+3]\n",
    "\n",
    "        protein = None\n",
    "        if codon in DNA_CODON_TABLE:\n",
    "            protein = DNA_CODON_TABLE[codon]\n",
    "    \n",
    "        if protein == '-':\n",
    "            break\n",
    "\n",
    "        if protein:\n",
    "            result += protein\n",
    "\n",
    "    #return ''.join(list(result))\n",
    "    return result\n",
    "\n",
    "\n",
    "if __name__ == \"__main__\":\n",
    "\n",
    "    small_dataset = \"\"\"\n",
    "                    ATGGTCTACATAGCTGACAAACAGCACGTAGCAATCGGTCGAATCTCGAGAGGCATATGGTCACATGATCGGTCGAGCGTGTTTCAAAGTTTGCGCCTAG\n",
    "                    ATCGGTCGAA\n",
    "                    ATCGGTCGAGCGTGT\n",
    "                    \"\"\"\n",
    "    #large_dataset = open('datasets/rosalind_splc.txt').read().strip()\n",
    "\n",
    "    print (result(small_dataset))"
   ]
  },
  {
   "cell_type": "code",
   "execution_count": 7,
   "metadata": {},
   "outputs": [
    {
     "data": {
      "text/plain": [
       "'AUCGGUCGAA'"
      ]
     },
     "execution_count": 7,
     "metadata": {},
     "output_type": "execute_result"
    }
   ],
   "source": [
    "'ATCGGTCGAA'.replace('T', 'U')"
   ]
  },
  {
   "cell_type": "code",
   "execution_count": null,
   "metadata": {},
   "outputs": [],
   "source": []
  }
 ],
 "metadata": {
  "kernelspec": {
   "display_name": "Python 3",
   "language": "python",
   "name": "python3"
  },
  "language_info": {
   "codemirror_mode": {
    "name": "ipython",
    "version": 3
   },
   "file_extension": ".py",
   "mimetype": "text/x-python",
   "name": "python",
   "nbconvert_exporter": "python",
   "pygments_lexer": "ipython3",
   "version": "3.7.6"
  }
 },
 "nbformat": 4,
 "nbformat_minor": 4
}
